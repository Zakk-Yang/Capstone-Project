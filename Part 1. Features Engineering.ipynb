{
 "cells": [
  {
   "cell_type": "markdown",
   "metadata": {},
   "source": [
    "# Part 1: Features Engineering"
   ]
  },
  {
   "cell_type": "markdown",
   "metadata": {},
   "source": [
    "Indicators are tools that help an investor or a trader to make a decision whether to buy stock or sell.\n",
    "Technical indicators (which can be called features in this context) constructed from stock data, such as `price` or `volume`.\n",
    "In this part we will create following features: `Bollinger Bands`, `RSI`, `MACD`, `Moving Average`, `Return`, `Momentum`, `Change` and `Volatility`.\n",
    "\n",
    "`Return` will serve as a **target** or dependent variable. Other features will serve as independent variables."
   ]
  },
  {
   "cell_type": "markdown",
   "metadata": {},
   "source": [
    "## Importing Libraries"
   ]
  },
  {
   "cell_type": "code",
   "execution_count": 2,
   "metadata": {},
   "outputs": [
    {
     "name": "stderr",
     "output_type": "stream",
     "text": [
      "/opt/homebrew/Caskroom/miniforge/base/envs/tensorflow/lib/python3.8/site-packages/statsmodels/tools/_testing.py:19: FutureWarning: pandas.util.testing is deprecated. Use the functions in the public API at pandas.testing instead.\n",
      "  import pandas.util.testing as tm\n"
     ]
    }
   ],
   "source": [
    "import pandas_datareader as pdr\n",
    "import os\n",
    "import numpy as np\n",
    "import pandas as pd\n",
    "import matplotlib.pyplot as plt\n",
    "import seaborn as sns\n",
    "import warnings\n",
    "from importlib import reload\n",
    "from features_engineering import ma7, ma21, rsi, macd, bollinger_bands, momentum, get_tesla_headlines\n",
    "\n",
    "from bs4 import BeautifulSoup\n",
    "import requests\n",
    "from nltk.sentiment.vader import SentimentIntensityAnalyzer\n",
    "warnings.filterwarnings('ignore')\n",
    "plt.rcParams['figure.dpi'] = 227 # native screen dpi for my computer"
   ]
  },
  {
   "cell_type": "markdown",
   "metadata": {},
   "source": [
    "# Original Data"
   ]
  },
  {
   "cell_type": "code",
   "execution_count": 3,
   "metadata": {},
   "outputs": [],
   "source": [
    "tsla_df = pdr.get_data_yahoo('tsla', '1980')\n",
    "tsla_df.to_csv('data/raw_stocks.csv')"
   ]
  },
  {
   "cell_type": "markdown",
   "metadata": {},
   "source": [
    "Let's take a look at the historical data of **Tesla**."
   ]
  },
  {
   "cell_type": "code",
   "execution_count": 4,
   "metadata": {},
   "outputs": [
    {
     "data": {
      "text/html": [
       "<div>\n",
       "<style scoped>\n",
       "    .dataframe tbody tr th:only-of-type {\n",
       "        vertical-align: middle;\n",
       "    }\n",
       "\n",
       "    .dataframe tbody tr th {\n",
       "        vertical-align: top;\n",
       "    }\n",
       "\n",
       "    .dataframe thead th {\n",
       "        text-align: right;\n",
       "    }\n",
       "</style>\n",
       "<table border=\"1\" class=\"dataframe\">\n",
       "  <thead>\n",
       "    <tr style=\"text-align: right;\">\n",
       "      <th></th>\n",
       "      <th>High</th>\n",
       "      <th>Low</th>\n",
       "      <th>Open</th>\n",
       "      <th>Close</th>\n",
       "      <th>Volume</th>\n",
       "      <th>Adj Close</th>\n",
       "    </tr>\n",
       "    <tr>\n",
       "      <th>Date</th>\n",
       "      <th></th>\n",
       "      <th></th>\n",
       "      <th></th>\n",
       "      <th></th>\n",
       "      <th></th>\n",
       "      <th></th>\n",
       "    </tr>\n",
       "  </thead>\n",
       "  <tbody>\n",
       "    <tr>\n",
       "      <th>2010-06-29</th>\n",
       "      <td>5.000</td>\n",
       "      <td>3.508</td>\n",
       "      <td>3.800</td>\n",
       "      <td>4.778</td>\n",
       "      <td>93831500.0</td>\n",
       "      <td>4.778</td>\n",
       "    </tr>\n",
       "    <tr>\n",
       "      <th>2010-06-30</th>\n",
       "      <td>6.084</td>\n",
       "      <td>4.660</td>\n",
       "      <td>5.158</td>\n",
       "      <td>4.766</td>\n",
       "      <td>85935500.0</td>\n",
       "      <td>4.766</td>\n",
       "    </tr>\n",
       "    <tr>\n",
       "      <th>2010-07-01</th>\n",
       "      <td>5.184</td>\n",
       "      <td>4.054</td>\n",
       "      <td>5.000</td>\n",
       "      <td>4.392</td>\n",
       "      <td>41094000.0</td>\n",
       "      <td>4.392</td>\n",
       "    </tr>\n",
       "    <tr>\n",
       "      <th>2010-07-02</th>\n",
       "      <td>4.620</td>\n",
       "      <td>3.742</td>\n",
       "      <td>4.600</td>\n",
       "      <td>3.840</td>\n",
       "      <td>25699000.0</td>\n",
       "      <td>3.840</td>\n",
       "    </tr>\n",
       "    <tr>\n",
       "      <th>2010-07-06</th>\n",
       "      <td>4.000</td>\n",
       "      <td>3.166</td>\n",
       "      <td>4.000</td>\n",
       "      <td>3.222</td>\n",
       "      <td>34334500.0</td>\n",
       "      <td>3.222</td>\n",
       "    </tr>\n",
       "  </tbody>\n",
       "</table>\n",
       "</div>"
      ],
      "text/plain": [
       "             High    Low   Open  Close      Volume  Adj Close\n",
       "Date                                                         \n",
       "2010-06-29  5.000  3.508  3.800  4.778  93831500.0      4.778\n",
       "2010-06-30  6.084  4.660  5.158  4.766  85935500.0      4.766\n",
       "2010-07-01  5.184  4.054  5.000  4.392  41094000.0      4.392\n",
       "2010-07-02  4.620  3.742  4.600  3.840  25699000.0      3.840\n",
       "2010-07-06  4.000  3.166  4.000  3.222  34334500.0      3.222"
      ]
     },
     "execution_count": 4,
     "metadata": {},
     "output_type": "execute_result"
    }
   ],
   "source": [
    "tsla_df.head()"
   ]
  },
  {
   "cell_type": "code",
   "execution_count": 5,
   "metadata": {},
   "outputs": [],
   "source": [
    "tesla_df = pd.read_csv('data/raw_stocks.csv')"
   ]
  },
  {
   "cell_type": "code",
   "execution_count": 6,
   "metadata": {
    "scrolled": true
   },
   "outputs": [
    {
     "data": {
      "text/html": [
       "<div>\n",
       "<style scoped>\n",
       "    .dataframe tbody tr th:only-of-type {\n",
       "        vertical-align: middle;\n",
       "    }\n",
       "\n",
       "    .dataframe tbody tr th {\n",
       "        vertical-align: top;\n",
       "    }\n",
       "\n",
       "    .dataframe thead th {\n",
       "        text-align: right;\n",
       "    }\n",
       "</style>\n",
       "<table border=\"1\" class=\"dataframe\">\n",
       "  <thead>\n",
       "    <tr style=\"text-align: right;\">\n",
       "      <th></th>\n",
       "      <th>High</th>\n",
       "      <th>Low</th>\n",
       "      <th>Open</th>\n",
       "      <th>Close</th>\n",
       "      <th>Volume</th>\n",
       "      <th>Adj Close</th>\n",
       "    </tr>\n",
       "  </thead>\n",
       "  <tbody>\n",
       "    <tr>\n",
       "      <th>count</th>\n",
       "      <td>2894.000000</td>\n",
       "      <td>2894.000000</td>\n",
       "      <td>2894.000000</td>\n",
       "      <td>2894.000000</td>\n",
       "      <td>2.894000e+03</td>\n",
       "      <td>2894.000000</td>\n",
       "    </tr>\n",
       "    <tr>\n",
       "      <th>mean</th>\n",
       "      <td>124.193092</td>\n",
       "      <td>118.862103</td>\n",
       "      <td>121.604026</td>\n",
       "      <td>121.709061</td>\n",
       "      <td>3.141320e+07</td>\n",
       "      <td>121.709061</td>\n",
       "    </tr>\n",
       "    <tr>\n",
       "      <th>std</th>\n",
       "      <td>227.803314</td>\n",
       "      <td>217.676477</td>\n",
       "      <td>222.916185</td>\n",
       "      <td>223.170847</td>\n",
       "      <td>2.825115e+07</td>\n",
       "      <td>223.170847</td>\n",
       "    </tr>\n",
       "    <tr>\n",
       "      <th>min</th>\n",
       "      <td>3.326000</td>\n",
       "      <td>2.996000</td>\n",
       "      <td>3.228000</td>\n",
       "      <td>3.160000</td>\n",
       "      <td>5.925000e+05</td>\n",
       "      <td>3.160000</td>\n",
       "    </tr>\n",
       "    <tr>\n",
       "      <th>25%</th>\n",
       "      <td>17.699500</td>\n",
       "      <td>15.930000</td>\n",
       "      <td>16.510500</td>\n",
       "      <td>17.088000</td>\n",
       "      <td>1.280800e+07</td>\n",
       "      <td>17.088000</td>\n",
       "    </tr>\n",
       "    <tr>\n",
       "      <th>50%</th>\n",
       "      <td>46.947001</td>\n",
       "      <td>45.407000</td>\n",
       "      <td>46.136000</td>\n",
       "      <td>46.099001</td>\n",
       "      <td>2.495650e+07</td>\n",
       "      <td>46.099001</td>\n",
       "    </tr>\n",
       "    <tr>\n",
       "      <th>75%</th>\n",
       "      <td>67.824503</td>\n",
       "      <td>65.405499</td>\n",
       "      <td>66.534502</td>\n",
       "      <td>66.667500</td>\n",
       "      <td>4.001775e+07</td>\n",
       "      <td>66.667500</td>\n",
       "    </tr>\n",
       "    <tr>\n",
       "      <th>max</th>\n",
       "      <td>1243.489990</td>\n",
       "      <td>1217.000000</td>\n",
       "      <td>1234.410034</td>\n",
       "      <td>1229.910034</td>\n",
       "      <td>3.046940e+08</td>\n",
       "      <td>1229.910034</td>\n",
       "    </tr>\n",
       "  </tbody>\n",
       "</table>\n",
       "</div>"
      ],
      "text/plain": [
       "              High          Low         Open        Close        Volume  \\\n",
       "count  2894.000000  2894.000000  2894.000000  2894.000000  2.894000e+03   \n",
       "mean    124.193092   118.862103   121.604026   121.709061  3.141320e+07   \n",
       "std     227.803314   217.676477   222.916185   223.170847  2.825115e+07   \n",
       "min       3.326000     2.996000     3.228000     3.160000  5.925000e+05   \n",
       "25%      17.699500    15.930000    16.510500    17.088000  1.280800e+07   \n",
       "50%      46.947001    45.407000    46.136000    46.099001  2.495650e+07   \n",
       "75%      67.824503    65.405499    66.534502    66.667500  4.001775e+07   \n",
       "max    1243.489990  1217.000000  1234.410034  1229.910034  3.046940e+08   \n",
       "\n",
       "         Adj Close  \n",
       "count  2894.000000  \n",
       "mean    121.709061  \n",
       "std     223.170847  \n",
       "min       3.160000  \n",
       "25%      17.088000  \n",
       "50%      46.099001  \n",
       "75%      66.667500  \n",
       "max    1229.910034  "
      ]
     },
     "execution_count": 6,
     "metadata": {},
     "output_type": "execute_result"
    }
   ],
   "source": [
    "tesla_df.describe()"
   ]
  },
  {
   "cell_type": "markdown",
   "metadata": {},
   "source": [
    "### Checking for missing data"
   ]
  },
  {
   "cell_type": "code",
   "execution_count": 7,
   "metadata": {},
   "outputs": [
    {
     "name": "stdout",
     "output_type": "stream",
     "text": [
      "No missing data\n"
     ]
    }
   ],
   "source": [
    "print('No missing data') if sum(tesla_df.isna().sum()) == 0 else tesla_df.isna().sum()"
   ]
  },
  {
   "cell_type": "markdown",
   "metadata": {},
   "source": [
    "# Generating Features"
   ]
  },
  {
   "cell_type": "code",
   "execution_count": 8,
   "metadata": {},
   "outputs": [
    {
     "data": {
      "text/html": [
       "<div>\n",
       "<style scoped>\n",
       "    .dataframe tbody tr th:only-of-type {\n",
       "        vertical-align: middle;\n",
       "    }\n",
       "\n",
       "    .dataframe tbody tr th {\n",
       "        vertical-align: top;\n",
       "    }\n",
       "\n",
       "    .dataframe thead th {\n",
       "        text-align: right;\n",
       "    }\n",
       "</style>\n",
       "<table border=\"1\" class=\"dataframe\">\n",
       "  <thead>\n",
       "    <tr style=\"text-align: right;\">\n",
       "      <th></th>\n",
       "      <th>Open</th>\n",
       "      <th>High</th>\n",
       "      <th>Low</th>\n",
       "      <th>Close</th>\n",
       "      <th>Adj Close</th>\n",
       "      <th>Volume</th>\n",
       "      <th>Return</th>\n",
       "      <th>Change</th>\n",
       "      <th>Volatility</th>\n",
       "      <th>MA7</th>\n",
       "      <th>MA21</th>\n",
       "      <th>Momentum</th>\n",
       "      <th>RSI</th>\n",
       "      <th>MACD</th>\n",
       "      <th>Signal</th>\n",
       "      <th>Upper_band</th>\n",
       "      <th>Lower_band</th>\n",
       "    </tr>\n",
       "    <tr>\n",
       "      <th>Date</th>\n",
       "      <th></th>\n",
       "      <th></th>\n",
       "      <th></th>\n",
       "      <th></th>\n",
       "      <th></th>\n",
       "      <th></th>\n",
       "      <th></th>\n",
       "      <th></th>\n",
       "      <th></th>\n",
       "      <th></th>\n",
       "      <th></th>\n",
       "      <th></th>\n",
       "      <th></th>\n",
       "      <th></th>\n",
       "      <th></th>\n",
       "      <th></th>\n",
       "      <th></th>\n",
       "    </tr>\n",
       "  </thead>\n",
       "  <tbody>\n",
       "    <tr>\n",
       "      <th>2010-07-28</th>\n",
       "      <td>20.549999</td>\n",
       "      <td>20.900000</td>\n",
       "      <td>20.510000</td>\n",
       "      <td>20.719999</td>\n",
       "      <td>20.719999</td>\n",
       "      <td>467200</td>\n",
       "      <td>0.008</td>\n",
       "      <td>0.170000</td>\n",
       "      <td>1.979836</td>\n",
       "      <td>20.718571</td>\n",
       "      <td>19.911904</td>\n",
       "      <td>18.290001</td>\n",
       "      <td>41.752948</td>\n",
       "      <td>-0.350607</td>\n",
       "      <td>-0.658177</td>\n",
       "      <td>24.403824</td>\n",
       "      <td>15.419985</td>\n",
       "    </tr>\n",
       "    <tr>\n",
       "      <th>2010-07-29</th>\n",
       "      <td>20.770000</td>\n",
       "      <td>20.879999</td>\n",
       "      <td>20.000000</td>\n",
       "      <td>20.350000</td>\n",
       "      <td>20.350000</td>\n",
       "      <td>616000</td>\n",
       "      <td>-0.020</td>\n",
       "      <td>-0.369999</td>\n",
       "      <td>1.908327</td>\n",
       "      <td>20.725714</td>\n",
       "      <td>19.743333</td>\n",
       "      <td>17.950001</td>\n",
       "      <td>40.449222</td>\n",
       "      <td>-0.337599</td>\n",
       "      <td>-0.594062</td>\n",
       "      <td>23.858103</td>\n",
       "      <td>15.628563</td>\n",
       "    </tr>\n",
       "    <tr>\n",
       "      <th>2010-07-30</th>\n",
       "      <td>20.200001</td>\n",
       "      <td>20.440001</td>\n",
       "      <td>19.549999</td>\n",
       "      <td>19.940001</td>\n",
       "      <td>19.940001</td>\n",
       "      <td>426900</td>\n",
       "      <td>-0.013</td>\n",
       "      <td>-0.409999</td>\n",
       "      <td>1.839567</td>\n",
       "      <td>20.685714</td>\n",
       "      <td>19.558095</td>\n",
       "      <td>17.549999</td>\n",
       "      <td>38.996148</td>\n",
       "      <td>-0.356267</td>\n",
       "      <td>-0.546503</td>\n",
       "      <td>23.226171</td>\n",
       "      <td>15.890019</td>\n",
       "    </tr>\n",
       "    <tr>\n",
       "      <th>2010-08-02</th>\n",
       "      <td>20.500000</td>\n",
       "      <td>20.969999</td>\n",
       "      <td>20.330000</td>\n",
       "      <td>20.920000</td>\n",
       "      <td>20.920000</td>\n",
       "      <td>718100</td>\n",
       "      <td>0.020</td>\n",
       "      <td>0.979999</td>\n",
       "      <td>1.789358</td>\n",
       "      <td>20.674286</td>\n",
       "      <td>19.508571</td>\n",
       "      <td>17.719999</td>\n",
       "      <td>44.159747</td>\n",
       "      <td>-0.288656</td>\n",
       "      <td>-0.494933</td>\n",
       "      <td>23.066887</td>\n",
       "      <td>15.950255</td>\n",
       "    </tr>\n",
       "    <tr>\n",
       "      <th>2010-08-03</th>\n",
       "      <td>21.000000</td>\n",
       "      <td>21.950001</td>\n",
       "      <td>20.820000</td>\n",
       "      <td>21.950001</td>\n",
       "      <td>21.950001</td>\n",
       "      <td>1230500</td>\n",
       "      <td>0.045</td>\n",
       "      <td>1.030001</td>\n",
       "      <td>1.791139</td>\n",
       "      <td>20.768572</td>\n",
       "      <td>19.639524</td>\n",
       "      <td>17.350000</td>\n",
       "      <td>49.041837</td>\n",
       "      <td>-0.150230</td>\n",
       "      <td>-0.425993</td>\n",
       "      <td>23.349330</td>\n",
       "      <td>15.929718</td>\n",
       "    </tr>\n",
       "  </tbody>\n",
       "</table>\n",
       "</div>"
      ],
      "text/plain": [
       "                 Open       High        Low      Close  Adj Close   Volume  \\\n",
       "Date                                                                         \n",
       "2010-07-28  20.549999  20.900000  20.510000  20.719999  20.719999   467200   \n",
       "2010-07-29  20.770000  20.879999  20.000000  20.350000  20.350000   616000   \n",
       "2010-07-30  20.200001  20.440001  19.549999  19.940001  19.940001   426900   \n",
       "2010-08-02  20.500000  20.969999  20.330000  20.920000  20.920000   718100   \n",
       "2010-08-03  21.000000  21.950001  20.820000  21.950001  21.950001  1230500   \n",
       "\n",
       "            Return    Change  Volatility        MA7       MA21   Momentum  \\\n",
       "Date                                                                        \n",
       "2010-07-28   0.008  0.170000    1.979836  20.718571  19.911904  18.290001   \n",
       "2010-07-29  -0.020 -0.369999    1.908327  20.725714  19.743333  17.950001   \n",
       "2010-07-30  -0.013 -0.409999    1.839567  20.685714  19.558095  17.549999   \n",
       "2010-08-02   0.020  0.979999    1.789358  20.674286  19.508571  17.719999   \n",
       "2010-08-03   0.045  1.030001    1.791139  20.768572  19.639524  17.350000   \n",
       "\n",
       "                  RSI      MACD    Signal  Upper_band  Lower_band  \n",
       "Date                                                               \n",
       "2010-07-28  41.752948 -0.350607 -0.658177   24.403824   15.419985  \n",
       "2010-07-29  40.449222 -0.337599 -0.594062   23.858103   15.628563  \n",
       "2010-07-30  38.996148 -0.356267 -0.546503   23.226171   15.890019  \n",
       "2010-08-02  44.159747 -0.288656 -0.494933   23.066887   15.950255  \n",
       "2010-08-03  49.041837 -0.150230 -0.425993   23.349330   15.929718  "
      ]
     },
     "execution_count": 8,
     "metadata": {},
     "output_type": "execute_result"
    }
   ],
   "source": [
    "#del stocks\n",
    "files = os.listdir('data/raw_stocks')\n",
    "stocks = {}\n",
    "for file in files:\n",
    "    name = file.lower().split('.')[0]\n",
    "    stocks[name] = pd.read_csv('data/raw_stocks/'+file)    \n",
    "    \n",
    "    # Return Feature\n",
    "    stocks[name]['Return'] = round(stocks[name]['Close'] / stocks[name]['Open'] - 1, 3)\n",
    "    # Change Feature\n",
    "    # Change of the price from previous day, absolute value\n",
    "    stocks[name]['Change'] = (stocks[name].Close - stocks[name].Close.shift(1)).fillna(0)\n",
    "    # Date Feature\n",
    "    stocks[name]['Date'] = pd.to_datetime(stocks[name]['Date'])\n",
    "    stocks[name].set_index('Date', inplace=True)\n",
    "    # Volatility Feature\n",
    "    stocks[name]['Volatility'] = stocks[name].Close.ewm(21).std()\n",
    "    # Moving Average, 7 days\n",
    "    stocks[name]['MA7'] = ma7(stocks[name])\n",
    "    # Moving Average, 21 days\n",
    "    stocks[name]['MA21'] = ma21(stocks[name])\n",
    "    # Momentum\n",
    "    stocks[name]['Momentum'] = momentum(stocks[name].Close, 3)\n",
    "    # RSI (Relative Strength Index)\n",
    "    stocks[name]['RSI'] = rsi(stocks[name])\n",
    "    # MACD - (Moving Average Convergence/Divergence)\n",
    "    stocks[name]['MACD'], stocks[name]['Signal'] = macd(stocks[name])\n",
    "    # Upper Band and Lower Band for Bollinger Bands\n",
    "    stocks[name]['Upper_band'], stocks[name]['Lower_band'] = bollinger_bands(stocks[name])\n",
    "    stocks[name].dropna(inplace=True)\n",
    "    # Saving\n",
    "    stocks[name].to_csv('data/stocks/'+name+'.csv')\n",
    "\n",
    "stocks['tsla'].head()"
   ]
  },
  {
   "cell_type": "markdown",
   "metadata": {},
   "source": [
    "Mostly we will rely on historical data and technical indicators. Additionally, we will use news headlines of Tesla to check hypothesis if news affect price movement."
   ]
  },
  {
   "cell_type": "markdown",
   "metadata": {},
   "source": [
    "## Tesla News Headlines"
   ]
  },
  {
   "cell_type": "markdown",
   "metadata": {},
   "source": [
    "For news source we will use <a href=\"nasdaq.com\">NASDAQ</a> website.\n",
    "At the moment of parsing there were 120 pages of news from `2019-01-10` till `2019-09-05`"
   ]
  },
  {
   "cell_type": "code",
   "execution_count": null,
   "metadata": {},
   "outputs": [],
   "source": [
    "headlines_list, dates_list = [], []\n",
    "for i in range(1, 120):    \n",
    "    headlines, dates = get_tesla_headlines(\"https://www.nasdaq.com/symbol/tsla/news-headlines?page={}\".format(i))\n",
    "    headlines_list.append(headlines)\n",
    "    dates_list.append(dates)\n",
    "    time.sleep(1)"
   ]
  },
  {
   "cell_type": "code",
   "execution_count": null,
   "metadata": {},
   "outputs": [],
   "source": [
    "tesla_headlines = pd.DataFrame({'Title': [i for sub in headlines_list for i in sub], 'Date': [i for sub in dates_list for i in sub[:10]]})"
   ]
  },
  {
   "cell_type": "markdown",
   "metadata": {},
   "source": [
    "## Unsupervised sentiment prediction"
   ]
  },
  {
   "cell_type": "markdown",
   "metadata": {},
   "source": [
    "Once news are parsed, we will use unsupervised learning to assign sentiment to each news."
   ]
  },
  {
   "cell_type": "code",
   "execution_count": 15,
   "metadata": {},
   "outputs": [],
   "source": [
    "sid = SentimentIntensityAnalyzer()"
   ]
  },
  {
   "cell_type": "code",
   "execution_count": 57,
   "metadata": {},
   "outputs": [],
   "source": [
    "tesla_headlines['Sentiment'] = tesla_headlines['Title'].map(lambda x: sid.polarity_scores(x)['compound'])\n",
    "tesla_headlines.Date = pd.to_datetime(tesla_headlines.Date)\n",
    "tesla_headlines.to_csv('data/tesla_headlines.csv')"
   ]
  },
  {
   "cell_type": "code",
   "execution_count": 24,
   "metadata": {
    "scrolled": true
   },
   "outputs": [
    {
     "data": {
      "text/html": [
       "<div>\n",
       "<style scoped>\n",
       "    .dataframe tbody tr th:only-of-type {\n",
       "        vertical-align: middle;\n",
       "    }\n",
       "\n",
       "    .dataframe tbody tr th {\n",
       "        vertical-align: top;\n",
       "    }\n",
       "\n",
       "    .dataframe thead th {\n",
       "        text-align: right;\n",
       "    }\n",
       "</style>\n",
       "<table border=\"1\" class=\"dataframe\">\n",
       "  <thead>\n",
       "    <tr style=\"text-align: right;\">\n",
       "      <th></th>\n",
       "      <th>Title</th>\n",
       "      <th>Date</th>\n",
       "      <th>Sentiment</th>\n",
       "    </tr>\n",
       "  </thead>\n",
       "  <tbody>\n",
       "    <tr>\n",
       "      <td>0</td>\n",
       "      <td>Tesla's use of individual driver data for insu...</td>\n",
       "      <td>2019-09-05</td>\n",
       "      <td>0.0000</td>\n",
       "    </tr>\n",
       "    <tr>\n",
       "      <td>1</td>\n",
       "      <td>U.S. safety agency cites Tesla Autopilot desig...</td>\n",
       "      <td>2019-09-04</td>\n",
       "      <td>0.0258</td>\n",
       "    </tr>\n",
       "    <tr>\n",
       "      <td>2</td>\n",
       "      <td>U.S. safety agency cites driver error, Tesla A...</td>\n",
       "      <td>2019-09-04</td>\n",
       "      <td>-0.3818</td>\n",
       "    </tr>\n",
       "    <tr>\n",
       "      <td>3</td>\n",
       "      <td>U.S. safety regulator cites driver error, Tesl...</td>\n",
       "      <td>2019-09-04</td>\n",
       "      <td>-0.3818</td>\n",
       "    </tr>\n",
       "    <tr>\n",
       "      <td>4</td>\n",
       "      <td>U.S. NTSB cites driver error, Tesla Autopilot ...</td>\n",
       "      <td>2019-09-04</td>\n",
       "      <td>-0.6597</td>\n",
       "    </tr>\n",
       "  </tbody>\n",
       "</table>\n",
       "</div>"
      ],
      "text/plain": [
       "                                               Title        Date  Sentiment\n",
       "0  Tesla's use of individual driver data for insu...  2019-09-05     0.0000\n",
       "1  U.S. safety agency cites Tesla Autopilot desig...  2019-09-04     0.0258\n",
       "2  U.S. safety agency cites driver error, Tesla A...  2019-09-04    -0.3818\n",
       "3  U.S. safety regulator cites driver error, Tesl...  2019-09-04    -0.3818\n",
       "4  U.S. NTSB cites driver error, Tesla Autopilot ...  2019-09-04    -0.6597"
      ]
     },
     "execution_count": 24,
     "metadata": {},
     "output_type": "execute_result"
    }
   ],
   "source": [
    "tesla_headlines.head()"
   ]
  },
  {
   "cell_type": "markdown",
   "metadata": {},
   "source": [
    "# Conclusion"
   ]
  },
  {
   "cell_type": "markdown",
   "metadata": {},
   "source": [
    "Exploratory Analysis, Machine learning algorithms and Q-Learning will rely on features we generated at this point."
   ]
  }
 ],
 "metadata": {
  "kernelspec": {
   "display_name": "AI_Stock_Trading",
   "language": "python",
   "name": "ai_stock_trading"
  },
  "language_info": {
   "codemirror_mode": {
    "name": "ipython",
    "version": 3
   },
   "file_extension": ".py",
   "mimetype": "text/x-python",
   "name": "python",
   "nbconvert_exporter": "python",
   "pygments_lexer": "ipython3",
   "version": "3.8.12"
  }
 },
 "nbformat": 4,
 "nbformat_minor": 4
}
